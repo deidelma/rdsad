





import rpy2
import rpy2.robjects as robjects



seurat = robjects.r("library(Seurat)")
seurat_data = robjects.r('library(SeuratData)')
seurat_disk = robjects.r('library(SeuratDisk)')
fastmat = robjects.r('library(fastMatMR)')


read_rds = robjects.r['readRDS']
rds_data = read_rds('data/JK06.rds')


create_seurat_object = robjects.r['CreateSeuratObject']


seurat_object = create_seurat_object(rds_data)


get_assay_data = robjects.r['GetAssayData']


mtx = get_assay_data(seurat_object, assay = "RNA", layer = "counts")


write_matrix = robjects.r['write_fmm']


write_matrix(mtx, "data/matrix.mtx")


rownames = robjects.r["rownames"]


barcodes = rownames(seurat_object.slots["meta.data"])
# print(f"{barcodes}")


robjects.r["str"](seurat_object)


# 
# need to extract the features from the v5 Assay object buried inside the S4 object.
#
x = tuple(seurat_object.slots["assays"].items())[0][1]
genes = rownames(x.slots["features"])


write_table = robjects.r["write.table"]






from anndata import AnnData
import scipy.io
import pandas as pd


mtx = scipy.io.mmread("data/matrix.mtx").tocsr().T # need to check if this is the correct sparse matrix format


adata = AnnData(mtx)
adata.X


barcodes = pd.read_csv("data/barcodes.tsv", header=None)
features = pd.read_csv("data/genes.tsv", header=None)


adata.var = features
adata.var_names = adata.var[0]


adata.var


adata.obs


adata.obs.drop(adata.obs[[0]], axis=1, inplace=True)


adata.obs



