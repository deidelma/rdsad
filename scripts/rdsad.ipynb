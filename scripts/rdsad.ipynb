{
 "cells": [
  {
   "cell_type": "markdown",
   "id": "5328a377-d55a-45aa-9c1e-61e22b2435a6",
   "metadata": {},
   "source": [
    "# rdsad"
   ]
  },
  {
   "cell_type": "markdown",
   "id": "ca1013f2-39a4-4243-a84f-c1fe3f91469e",
   "metadata": {},
   "source": [
    "Process .rds files to .h5ad files."
   ]
  },
  {
   "cell_type": "code",
   "execution_count": null,
   "id": "6925f055-5125-47ec-bb02-262789e21e64",
   "metadata": {},
   "outputs": [],
   "source": [
    "import rpy2\n",
    "import rpy2.robjects as robjects\n"
   ]
  },
  {
   "cell_type": "code",
   "execution_count": null,
   "id": "eb1262b3-6f8d-4e12-ad3e-00ca3169138b",
   "metadata": {},
   "outputs": [],
   "source": [
    "seurat = robjects.r(\"library(Seurat)\")\n",
    "seurat_data = robjects.r('library(SeuratData)')\n",
    "seurat_disk = robjects.r('library(SeuratDisk)')\n",
    "fastmat = robjects.r('library(fastMatMR)')"
   ]
  },
  {
   "cell_type": "code",
   "execution_count": null,
   "id": "d4e50473-e11f-40a8-9e9b-30bdcfd84a69",
   "metadata": {},
   "outputs": [],
   "source": [
    "read_rds = robjects.r['readRDS']\n",
    "rds_data = read_rds('data/JK06.rds')"
   ]
  },
  {
   "cell_type": "code",
   "execution_count": null,
   "id": "c35f298e-3b23-49ef-8493-d66336f1228c",
   "metadata": {},
   "outputs": [],
   "source": [
    "create_seurat_object = robjects.r['CreateSeuratObject']"
   ]
  },
  {
   "cell_type": "code",
   "execution_count": null,
   "id": "006c862f-6086-4722-99fc-2e2f8a973039",
   "metadata": {},
   "outputs": [],
   "source": [
    "seurat_object = create_seurat_object(rds_data)"
   ]
  },
  {
   "cell_type": "code",
   "execution_count": null,
   "id": "a12a2e5c-bc9f-4fab-a29e-220c389272a3",
   "metadata": {},
   "outputs": [],
   "source": [
    "get_assay_data = robjects.r['GetAssayData']"
   ]
  },
  {
   "cell_type": "code",
   "execution_count": null,
   "id": "15150f68-afe0-4bb8-9ce2-08c768f4fd73",
   "metadata": {},
   "outputs": [],
   "source": [
    "mtx = get_assay_data(seurat_object, assay = \"RNA\", layer = \"counts\")"
   ]
  },
  {
   "cell_type": "code",
   "execution_count": null,
   "id": "aeada309-63fd-404a-8a29-7e5a8a07ebe0",
   "metadata": {},
   "outputs": [],
   "source": [
    "write_matrix = robjects.r['write_fmm']"
   ]
  },
  {
   "cell_type": "code",
   "execution_count": null,
   "id": "fe6be309-49b0-4e88-8cd6-76cd511f3dde",
   "metadata": {},
   "outputs": [],
   "source": [
    "write_matrix(mtx, \"data/matrix.mtx\")"
   ]
  },
  {
   "cell_type": "code",
   "execution_count": null,
   "id": "f585ba0f-846b-4bcc-a7c2-aea888282276",
   "metadata": {},
   "outputs": [],
   "source": [
    "rownames = robjects.r[\"rownames\"]"
   ]
  },
  {
   "cell_type": "code",
   "execution_count": null,
   "id": "16224d80-9d78-4f61-a9c7-53144ded4b6f",
   "metadata": {},
   "outputs": [],
   "source": [
    "barcodes = rownames(seurat_object.slots[\"meta.data\"])\n",
    "# print(f\"{barcodes}\")"
   ]
  },
  {
   "cell_type": "code",
   "execution_count": null,
   "id": "cb77b4df-ba0b-4938-9104-15bb2c089288",
   "metadata": {},
   "outputs": [],
   "source": [
    "robjects.r[\"str\"](seurat_object)"
   ]
  },
  {
   "cell_type": "code",
   "execution_count": null,
   "id": "5d5d82ae-f5d8-4e93-a127-29385def706f",
   "metadata": {},
   "outputs": [],
   "source": [
    "# \n",
    "# need to extract the features from the v5 Assay object buried inside the S4 object.\n",
    "#\n",
    "x = tuple(seurat_object.slots[\"assays\"].items())[0][1]\n",
    "genes = rownames(x.slots[\"features\"])"
   ]
  },
  {
   "cell_type": "code",
   "execution_count": null,
   "id": "b46c4ed6-868a-4099-8a45-c6491a5072ca",
   "metadata": {},
   "outputs": [],
   "source": [
    "write_table = robjects.r[\"write.table\"]\n"
   ]
  },
  {
   "cell_type": "markdown",
   "id": "4431885e-fdba-4e75-b018-bc5bec4ae461",
   "metadata": {},
   "source": [
    "write_table(barcodes, file=\"data/barcodes.tsv\", quote=False, row_names=False, col_names=False)\n",
    "write_table(genes, file=\"data/genes.tsv\", quote=False, row_names=False, col_names=False)"
   ]
  },
  {
   "cell_type": "code",
   "execution_count": null,
   "id": "a42a20d0-a25e-40c3-9517-3a20368047b2",
   "metadata": {},
   "outputs": [],
   "source": [
    "from anndata import AnnData\n",
    "import scipy.io\n",
    "import pandas as pd"
   ]
  },
  {
   "cell_type": "code",
   "execution_count": null,
   "id": "1cae37e8-a7d9-4b6a-99c2-43db43203579",
   "metadata": {},
   "outputs": [],
   "source": [
    "mtx = scipy.io.mmread(\"data/matrix.mtx\").tocsr().T # need to check if this is the correct sparse matrix format"
   ]
  },
  {
   "cell_type": "code",
   "execution_count": null,
   "id": "b9b733ff-6d6f-4977-bdfe-bdcc7a4e9bd1",
   "metadata": {},
   "outputs": [],
   "source": [
    "adata = AnnData(mtx)\n",
    "adata.X"
   ]
  },
  {
   "cell_type": "code",
   "execution_count": null,
   "id": "c77e7138-82da-4639-a972-a88fb1d3663f",
   "metadata": {},
   "outputs": [],
   "source": [
    "barcodes = pd.read_csv(\"data/barcodes.tsv\", header=None)\n",
    "features = pd.read_csv(\"data/genes.tsv\", header=None)"
   ]
  },
  {
   "cell_type": "code",
   "execution_count": null,
   "id": "9bbe75e9-4f77-416a-b191-dd0ae4cefa4e",
   "metadata": {},
   "outputs": [],
   "source": [
    "adata.var = features\n",
    "adata.var_names = adata.var[0]"
   ]
  },
  {
   "cell_type": "code",
   "execution_count": null,
   "id": "d7203e31-e0ef-4ec9-84ae-ad2db244ee23",
   "metadata": {},
   "outputs": [],
   "source": [
    "adata.var"
   ]
  },
  {
   "cell_type": "code",
   "execution_count": null,
   "id": "16df8778-3aea-43f4-9f6e-51cad148f32f",
   "metadata": {},
   "outputs": [],
   "source": [
    "adata.obs"
   ]
  },
  {
   "cell_type": "code",
   "execution_count": null,
   "id": "344f5dbb-a773-4f82-bfd4-535e4df6ded7",
   "metadata": {},
   "outputs": [],
   "source": [
    "adata.obs.drop(adata.obs[[0]], axis=1, inplace=True)"
   ]
  },
  {
   "cell_type": "code",
   "execution_count": null,
   "id": "d163d3cf-24d9-4b1f-8f01-68591753a8da",
   "metadata": {},
   "outputs": [],
   "source": [
    "adata.obs"
   ]
  },
  {
   "cell_type": "code",
   "execution_count": null,
   "id": "37510410-48c9-4285-9dbc-d5ef4066d3b0",
   "metadata": {},
   "outputs": [],
   "source": []
  }
 ],
 "metadata": {
  "kernelspec": {
   "display_name": "Python 3 (ipykernel)",
   "language": "python",
   "name": "python3"
  },
  "language_info": {
   "codemirror_mode": {
    "name": "ipython",
    "version": 3
   },
   "file_extension": ".py",
   "mimetype": "text/x-python",
   "name": "python",
   "nbconvert_exporter": "python",
   "pygments_lexer": "ipython3",
   "version": "3.11.8"
  }
 },
 "nbformat": 4,
 "nbformat_minor": 5
}
